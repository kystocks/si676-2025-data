{
 "cells": [
  {
   "cell_type": "code",
   "execution_count": 10,
   "id": "4645c31e",
   "metadata": {},
   "outputs": [],
   "source": [
    "import csv"
   ]
  },
  {
   "cell_type": "code",
   "execution_count": 11,
   "id": "6fe99cff",
   "metadata": {},
   "outputs": [
    {
     "name": "stdout",
     "output_type": "stream",
     "text": [
      "objectid,title,creator,date,description,subject,location,latitude,longitude,source,identifier,type,format,language,rights,rightsstatement,display_template,object_location,image_small,image_thumb,image_alt_text,object_transcript\n"
     ]
    }
   ],
   "source": [
    "!cat /Users/kylestocksdale/Documents/umich/courses/4_Fall_25/676/si676-2025-data/collection-site-materials/metadata-template-cb.csv"
   ]
  },
  {
   "cell_type": "code",
   "execution_count": 12,
   "id": "5238edaf",
   "metadata": {},
   "outputs": [
    {
     "name": "stdout",
     "output_type": "stream",
     "text": [
      "['objectid', 'title', 'creator', 'date', 'description', 'subject', 'location', 'latitude', 'longitude', 'source', 'identifier', 'type', 'format', 'language', 'rights', 'rightsstatement', 'display_template', 'object_location', 'image_small', 'image_thumb', 'image_alt_text', 'object_transcript']\n",
      "<_csv.reader object at 0x1125e3060>\n"
     ]
    }
   ],
   "source": [
    "with open('/Users/kylestocksdale/Documents/umich/courses/4_Fall_25/676/si676-2025-data/collection-site-materials/metadata-template-cb.csv') as f: \n",
    "    data = csv.reader(f)\n",
    "    for record in data:\n",
    "        print(record)\n",
    "    print(data)"
   ]
  },
  {
   "cell_type": "code",
   "execution_count": 14,
   "id": "a41e579a",
   "metadata": {},
   "outputs": [],
   "source": [
    "csv_file = '/Users/kylestocksdale/Documents/umich/courses/4_Fall_25/676/si676-2025-data/collection-site-materials/metadata-template-cb.csv'\n",
    "\n",
    "with open(csv_file) as f:\n",
    "    data = csv.DictReader(f)\n",
    "    for record in data:\n",
    "        print(record)"
   ]
  }
 ],
 "metadata": {
  "kernelspec": {
   "display_name": "Python 3",
   "language": "python",
   "name": "python3"
  },
  "language_info": {
   "codemirror_mode": {
    "name": "ipython",
    "version": 3
   },
   "file_extension": ".py",
   "mimetype": "text/x-python",
   "name": "python",
   "nbconvert_exporter": "python",
   "pygments_lexer": "ipython3",
   "version": "3.12.5"
  }
 },
 "nbformat": 4,
 "nbformat_minor": 5
}
