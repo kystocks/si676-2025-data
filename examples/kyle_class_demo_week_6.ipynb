{
 "cells": [
  {
   "cell_type": "code",
   "execution_count": 10,
   "id": "4645c31e",
   "metadata": {},
   "outputs": [],
   "source": [
    "import csv"
   ]
  },
  {
   "cell_type": "code",
   "execution_count": 11,
   "id": "6fe99cff",
   "metadata": {},
   "outputs": [
    {
     "name": "stdout",
     "output_type": "stream",
     "text": [
      "objectid,title,creator,date,description,subject,location,latitude,longitude,source,identifier,type,format,language,rights,rightsstatement,display_template,object_location,image_small,image_thumb,image_alt_text,object_transcript\n"
     ]
    }
   ],
   "source": [
    "!cat /Users/kylestocksdale/Documents/umich/courses/4_Fall_25/676/si676-2025-data/collection-site-materials/metadata-template-cb.csv"
   ]
  },
  {
   "cell_type": "code",
   "execution_count": 12,
   "id": "5238edaf",
   "metadata": {},
   "outputs": [
    {
     "name": "stdout",
     "output_type": "stream",
     "text": [
      "['objectid', 'title', 'creator', 'date', 'description', 'subject', 'location', 'latitude', 'longitude', 'source', 'identifier', 'type', 'format', 'language', 'rights', 'rightsstatement', 'display_template', 'object_location', 'image_small', 'image_thumb', 'image_alt_text', 'object_transcript']\n",
      "<_csv.reader object at 0x1125e3060>\n"
     ]
    }
   ],
   "source": [
    "with open('/Users/kylestocksdale/Documents/umich/courses/4_Fall_25/676/si676-2025-data/collection-site-materials/metadata-template-cb.csv') as f: \n",
    "    data = csv.reader(f)\n",
    "    for record in data:\n",
    "        print(record)\n",
    "    print(data)"
   ]
  },
  {
   "cell_type": "code",
   "execution_count": 14,
   "id": "a41e579a",
   "metadata": {},
   "outputs": [],
   "source": [
    "csv_file = '/Users/kylestocksdale/Documents/umich/courses/4_Fall_25/676/si676-2025-data/collection-site-materials/metadata-template-cb.csv'\n",
    "\n",
    "with open(csv_file) as f:\n",
    "    data = csv.DictReader(f)\n",
    "    for record in data:\n",
    "        print(record)"
   ]
  },
  {
   "cell_type": "code",
   "execution_count": 1,
   "id": "0c00b4d9",
   "metadata": {},
   "outputs": [],
   "source": [
    "import json\n",
    "import requests\n"
   ]
  },
  {
   "cell_type": "code",
   "execution_count": 2,
   "id": "dd5f55ee",
   "metadata": {},
   "outputs": [],
   "source": [
    "baseurl = 'http://www.loc.gov'\n",
    "endpoint = '/search'"
   ]
  },
  {
   "cell_type": "code",
   "execution_count": 3,
   "id": "5c82ba08",
   "metadata": {},
   "outputs": [
    {
     "name": "stdout",
     "output_type": "stream",
     "text": [
      "Query url http://www.loc.gov/search\n"
     ]
    }
   ],
   "source": [
    "print('Query url', baseurl + endpoint)"
   ]
  },
  {
   "cell_type": "code",
   "execution_count": 5,
   "id": "91151e63",
   "metadata": {},
   "outputs": [],
   "source": [
    "parameters = {\n",
    "    'fo': 'json',\n",
    "    'q': 'kittens'\n",
    "}"
   ]
  },
  {
   "cell_type": "code",
   "execution_count": 6,
   "id": "06620674",
   "metadata": {},
   "outputs": [
    {
     "name": "stdout",
     "output_type": "stream",
     "text": [
      "200\n"
     ]
    }
   ],
   "source": [
    "r = requests.get(baseurl + endpoint, params=parameters)\n",
    "print(r.status_code)"
   ]
  },
  {
   "cell_type": "code",
   "execution_count": 7,
   "id": "ce5b9094",
   "metadata": {},
   "outputs": [
    {
     "data": {
      "text/plain": [
       "'application/json'"
      ]
     },
     "execution_count": 7,
     "metadata": {},
     "output_type": "execute_result"
    }
   ],
   "source": [
    "r.headers['content-type']\n"
   ]
  },
  {
   "cell_type": "code",
   "execution_count": 8,
   "id": "7acffd22",
   "metadata": {},
   "outputs": [
    {
     "data": {
      "text/plain": [
       "'{\"breadcrumbs\": [{\"Library of Congress\": \"https://www.loc.gov\"}, {\"Search\": \"https://www.loc.gov/search/?fo=json&q=kittens\"}], \"expert_resources\": null, \"facet_trail\": [{\"facet\": \"searchTerms\", \"field\": \"searchTerms\", \"superset\": \"https://www.loc.gov'"
      ]
     },
     "execution_count": 8,
     "metadata": {},
     "output_type": "execute_result"
    }
   ],
   "source": [
    "r.text[:250]"
   ]
  },
  {
   "cell_type": "code",
   "execution_count": 9,
   "id": "2c60d51b",
   "metadata": {},
   "outputs": [
    {
     "name": "stdout",
     "output_type": "stream",
     "text": [
      "Date\n",
      "Content-Type\n",
      "Content-Length\n",
      "Connection\n",
      "CF-RAY\n",
      "Access-Control-Allow-Origin\n",
      "Referrer-Policy\n",
      "Strict-Transport-Security\n",
      "X-Content-Type-Options\n",
      "X-Robots-Tag\n",
      "X-Frame-Options\n",
      "ETag\n",
      "Expires\n",
      "Content-Security-Policy\n",
      "Age\n",
      "X-Grace\n",
      "X-Nearside-Cache\n",
      "X-Nearside-Cache-Hits\n",
      "Cache-Control\n",
      "Accept-Ranges\n",
      "cf-cache-status\n",
      "Vary\n",
      "Server\n"
     ]
    }
   ],
   "source": [
    "for header in r.headers:\n",
    "    print(header)"
   ]
  },
  {
   "cell_type": "code",
   "execution_count": 11,
   "id": "c7262de4",
   "metadata": {},
   "outputs": [
    {
     "name": "stdout",
     "output_type": "stream",
     "text": [
      "breadcrumbs\n",
      "expert_resources\n",
      "facet_trail\n",
      "facet_views\n",
      "facets\n",
      "form_facets\n",
      "notice\n",
      "options\n",
      "pagination\n",
      "results\n",
      "search\n",
      "timestamp\n",
      "views\n"
     ]
    }
   ],
   "source": [
    "for key in r.json():\n",
    "    print(key)"
   ]
  },
  {
   "cell_type": "code",
   "execution_count": 15,
   "id": "5741533e",
   "metadata": {},
   "outputs": [
    {
     "name": "stdout",
     "output_type": "stream",
     "text": [
      "Fancy Nancy : oodles of kittens\n",
      "[Kittens]\n",
      "Cat and kittens\n",
      "Kitten on the keys\n",
      "[Mother cat and kittens]\n",
      "Feeding his kittens on cornbread\n",
      "The sick kitten\n",
      "Boys with kitten\n",
      "[Boys with kitten]\n",
      "Girl with kitten\n",
      "The tortoiseshell kitten, or, The adventures of Puss for three months.\n",
      "The cat and her four kittens\n",
      "The cat and her four kittens\n",
      "Kitten on the keys\n",
      "No “Kitten” Around: Cats in the Library of Congress Collection\n",
      "The three jolly kittens - at the feast\n",
      "Two jolly kittens at a feast\n",
      "The three jolly kittens - after the feast\n",
      "S.3780 - 115th Congress (2017-2018): KITTEN Act of 2018\n",
      "S.708 - 116th Congress (2019-2020): KITTEN Act of 2019\n",
      "Scrap and his kitten\n",
      "[Girl with sleeping kitten]\n",
      "Calvin Coolidge [with kitten]\n",
      "[Domestic cat nursing kittens]\n",
      "[Kitten's party (child study)]\n"
     ]
    }
   ],
   "source": [
    "for item in r.json()['results']:\n",
    "    print(item['title'])"
   ]
  },
  {
   "cell_type": "code",
   "execution_count": 16,
   "id": "12289713",
   "metadata": {},
   "outputs": [
    {
     "name": "stdout",
     "output_type": "stream",
     "text": [
      "breadcrumbs\n",
      "expert_resources\n",
      "facet_trail\n",
      "facet_views\n",
      "facets\n",
      "form_facets\n",
      "notice\n",
      "options\n",
      "pagination\n",
      "results\n",
      "search\n",
      "timestamp\n",
      "views\n"
     ]
    }
   ],
   "source": [
    "data = json.loads(r.text)\n",
    "\n",
    "for record in data:\n",
    "    print(record)"
   ]
  },
  {
   "cell_type": "code",
   "execution_count": 24,
   "id": "d170f32f",
   "metadata": {},
   "outputs": [
    {
     "name": "stdout",
     "output_type": "stream",
     "text": [
      "Fancy Nancy : oodles of kittens\n",
      "[Kittens]\n",
      "Cat and kittens\n",
      "Kitten on the keys\n",
      "[Mother cat and kittens]\n",
      "Feeding his kittens on cornbread\n",
      "The sick kitten\n",
      "Boys with kitten\n",
      "[Boys with kitten]\n",
      "Girl with kitten\n",
      "The tortoiseshell kitten, or, The adventures of Puss for three months.\n",
      "The cat and her four kittens\n",
      "The cat and her four kittens\n",
      "Kitten on the keys\n",
      "No “Kitten” Around: Cats in the Library of Congress Collection\n",
      "The three jolly kittens - at the feast\n",
      "Two jolly kittens at a feast\n",
      "The three jolly kittens - after the feast\n",
      "S.3780 - 115th Congress (2017-2018): KITTEN Act of 2018\n",
      "S.708 - 116th Congress (2019-2020): KITTEN Act of 2019\n",
      "Scrap and his kitten\n",
      "[Girl with sleeping kitten]\n",
      "Calvin Coolidge [with kitten]\n",
      "[Domestic cat nursing kittens]\n",
      "[Kitten's party (child study)]\n"
     ]
    }
   ],
   "source": [
    "kittensList = data['results']\n",
    "for item in kittensList:\n",
    "    print(item['title'])"
   ]
  }
 ],
 "metadata": {
  "kernelspec": {
   "display_name": "Python 3",
   "language": "python",
   "name": "python3"
  },
  "language_info": {
   "codemirror_mode": {
    "name": "ipython",
    "version": 3
   },
   "file_extension": ".py",
   "mimetype": "text/x-python",
   "name": "python",
   "nbconvert_exporter": "python",
   "pygments_lexer": "ipython3",
   "version": "3.12.5"
  }
 },
 "nbformat": 4,
 "nbformat_minor": 5
}
