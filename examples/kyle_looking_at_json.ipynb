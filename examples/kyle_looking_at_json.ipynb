{
 "cells": [
  {
   "cell_type": "markdown",
   "id": "ad95c481",
   "metadata": {},
   "source": [
    "Looking at JSON"
   ]
  },
  {
   "cell_type": "code",
   "execution_count": 3,
   "id": "ff6958c1",
   "metadata": {},
   "outputs": [],
   "source": [
    "import json"
   ]
  },
  {
   "cell_type": "code",
   "execution_count": 4,
   "id": "bdcb7c07",
   "metadata": {},
   "outputs": [
    {
     "name": "stdout",
     "output_type": "stream",
     "text": [
      "{'Results': 2, 'isPrinted': True, 'books': []}\n"
     ]
    }
   ],
   "source": [
    "stringofJsondata = '{\"Results\":2, \"isPrinted\":true, \"books\": []}'\n",
    "\n",
    "jsonasPython = json.loads(stringofJsondata)\n",
    "\n",
    "print(jsonasPython)"
   ]
  },
  {
   "cell_type": "code",
   "execution_count": 5,
   "id": "014241be",
   "metadata": {},
   "outputs": [
    {
     "data": {
      "text/plain": [
       "{'Results': 2, 'isPrinted': True, 'books': []}"
      ]
     },
     "execution_count": 5,
     "metadata": {},
     "output_type": "execute_result"
    }
   ],
   "source": [
    "jsonasPython"
   ]
  },
  {
   "cell_type": "code",
   "execution_count": 6,
   "id": "d1b03f13",
   "metadata": {},
   "outputs": [
    {
     "name": "stdout",
     "output_type": "stream",
     "text": [
      "Results\n",
      "isPrinted\n",
      "books\n"
     ]
    }
   ],
   "source": [
    "for key in jsonasPython:\n",
    "    print(key)"
   ]
  },
  {
   "cell_type": "code",
   "execution_count": 7,
   "id": "5c54a10a",
   "metadata": {},
   "outputs": [
    {
     "data": {
      "text/plain": [
       "2"
      ]
     },
     "execution_count": 7,
     "metadata": {},
     "output_type": "execute_result"
    }
   ],
   "source": [
    "jsonasPython['Results']"
   ]
  },
  {
   "cell_type": "code",
   "execution_count": 12,
   "id": "d1b6140b",
   "metadata": {},
   "outputs": [
    {
     "data": {
      "text/plain": [
       "{'Results': 2,\n",
       " 'isPrinted': True,\n",
       " 'format': None,\n",
       " 'books': [{'title': 'Gone with the Wind', 'author': 'Mitchell'},\n",
       "  {'title': 'Wuthering Heights', 'author': 'Bronte'}]}"
      ]
     },
     "execution_count": 12,
     "metadata": {},
     "output_type": "execute_result"
    }
   ],
   "source": [
    "jsonasPython = json.loads('{\"Results\": 2, \"isPrinted\": true, \"format\": null, \"books\": [{\"title\": \"Gone with the Wind\", \"author\": \"Mitchell\"}, {\"title\": \"Wuthering Heights\", \"author\": \"Bronte\"}]}')\n",
    "\n",
    "jsonasPython"
   ]
  },
  {
   "cell_type": "code",
   "execution_count": 14,
   "id": "e697d3bb",
   "metadata": {},
   "outputs": [
    {
     "name": "stdout",
     "output_type": "stream",
     "text": [
      "{\n",
      "  \"Results\": 2,\n",
      "  \"isPrinted\": true,\n",
      "  \"format\": null,\n",
      "  \"books\": [\n",
      "    {\n",
      "      \"title\": \"Gone with the Wind\",\n",
      "      \"author\": \"Mitchell\"\n",
      "    },\n",
      "    {\n",
      "      \"title\": \"Wuthering Heights\",\n",
      "      \"author\": \"Bronte\"\n",
      "    }\n",
      "  ]\n",
      "}\n"
     ]
    }
   ],
   "source": [
    "newstringofJsondata = json.dumps(jsonasPython, indent=2)\n",
    "print(newstringofJsondata)"
   ]
  },
  {
   "cell_type": "code",
   "execution_count": 17,
   "id": "6cb3d1ea",
   "metadata": {},
   "outputs": [
    {
     "name": "stdout",
     "output_type": "stream",
     "text": [
      "Wrote JSON data to test-json-file.json\n"
     ]
    }
   ],
   "source": [
    "with open('test-json-file.json', 'w', encoding='utf-8') as f:\n",
    "    f.write(json.dumps(jsonasPython, indent=2))\n",
    "    print(\"Wrote JSON data to test-json-file.json\")"
   ]
  }
 ],
 "metadata": {
  "kernelspec": {
   "display_name": "Python 3",
   "language": "python",
   "name": "python3"
  },
  "language_info": {
   "codemirror_mode": {
    "name": "ipython",
    "version": 3
   },
   "file_extension": ".py",
   "mimetype": "text/x-python",
   "name": "python",
   "nbconvert_exporter": "python",
   "pygments_lexer": "ipython3",
   "version": "3.12.5"
  }
 },
 "nbformat": 4,
 "nbformat_minor": 5
}
